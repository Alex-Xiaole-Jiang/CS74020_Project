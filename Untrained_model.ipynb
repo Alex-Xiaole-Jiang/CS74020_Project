{
 "cells": [
  {
   "cell_type": "code",
   "execution_count": 1,
   "id": "3214fcbe-23d3-442c-86b8-0d36260a4271",
   "metadata": {},
   "outputs": [],
   "source": [
    "import numpy as np\n",
    "import torch\n",
    "from torch.utils.data import DataLoader\n",
    "from torch import nn\n",
    "from torch.nn import functional as F\n",
    "\n",
    "from sentence_transformers import SentenceTransformer, InputExample, losses, models, util\n",
    "from sentence_transformers.evaluation import EmbeddingSimilarityEvaluator\n",
    "from datasets import load_dataset, Dataset\n",
    "\n",
    "from tqdm import tqdm\n",
    "import logging\n",
    "\n",
    "from datetime import datetime"
   ]
  },
  {
   "cell_type": "code",
   "execution_count": 2,
   "id": "f480c10c-d93c-4ab3-994c-8e3488add172",
   "metadata": {},
   "outputs": [],
   "source": [
    "from pooling import my_pooling\n",
    "device = torch.device('cuda') if torch.cuda.is_available() else torch.device('cpu')"
   ]
  },
  {
   "cell_type": "code",
   "execution_count": 3,
   "id": "02abd1fb-4ac4-4c40-86de-58bbacf11166",
   "metadata": {},
   "outputs": [
    {
     "name": "stderr",
     "output_type": "stream",
     "text": [
      "C:\\Users\\Dollcrusader\\anaconda3\\envs\\ML_Final\\Lib\\site-packages\\huggingface_hub\\file_download.py:1132: FutureWarning: `resume_download` is deprecated and will be removed in version 1.0.0. Downloads always resume when possible. If you want to force a new download, use `force_download=True`.\n",
      "  warnings.warn(\n"
     ]
    }
   ],
   "source": [
    "sentence_trans = SentenceTransformer('sentence-transformers/multi-qa-distilbert-cos-v1', device = device)\n",
    "sentence_trans[1] = my_pooling(use_layernorm=True)\n",
    "# model._first_module()\n",
    "# sentence_trans"
   ]
  },
  {
   "cell_type": "code",
   "execution_count": 4,
   "id": "cda59911-a592-4eac-8255-f9ee6581d65c",
   "metadata": {},
   "outputs": [],
   "source": [
    "dataset = load_dataset(\"mteb/cqadupstack-physics\", \"corpus\")"
   ]
  },
  {
   "cell_type": "code",
   "execution_count": 5,
   "id": "ba5acfc1-4da8-4052-9ba3-c63c6cc31eac",
   "metadata": {},
   "outputs": [],
   "source": [
    "index = dataset['corpus'].shape[0]\n",
    "train_index = int(index*0.6)\n",
    "dev_index = int(index*0.8)\n",
    "\n",
    "index = int(index)\n",
    "train_index = int(train_index)\n",
    "dev_index = int(dev_index)"
   ]
  },
  {
   "cell_type": "code",
   "execution_count": 6,
   "id": "3c909c6f-decd-49c7-b33b-af499f592497",
   "metadata": {},
   "outputs": [],
   "source": [
    "dataset_shuffled = dataset['corpus'].shuffle(seed=42)\n",
    "train_samples = Dataset.from_dict(dataset_shuffled[0:train_index])\n",
    "dev_samples = Dataset.from_dict(dataset_shuffled[train_index:dev_index])\n",
    "test_samples = Dataset.from_dict(dataset_shuffled[dev_index:index])"
   ]
  },
  {
   "cell_type": "code",
   "execution_count": 7,
   "id": "91616a47-151e-4c65-a104-a674bd22d4b8",
   "metadata": {},
   "outputs": [],
   "source": [
    "from utils import shuffle_no_fixed_point\n",
    "\n",
    "def InputData_tri(dataset):\n",
    "    samples_set = []\n",
    "    for title, text, rand_text in zip(dataset['title'], dataset['text'], shuffle_no_fixed_point(dataset['text'])):\n",
    "        related = InputExample(texts=[title, text], label = 1.0)\n",
    "        unrelated = InputExample(texts=[title, rand_text], label = 0.0)\n",
    "        samples_set.append(related)\n",
    "        samples_set.append(unrelated)\n",
    "    return samples_set"
   ]
  },
  {
   "cell_type": "code",
   "execution_count": 8,
   "id": "bcedcff6-8d03-4406-801a-677262a3019a",
   "metadata": {},
   "outputs": [],
   "source": [
    "train_samples_set = InputData_tri(train_samples)\n",
    "test_samples_set = InputData_tri(test_samples)\n",
    "dev_samples_set = InputData_tri(dev_samples)"
   ]
  },
  {
   "cell_type": "code",
   "execution_count": 9,
   "id": "488a10eb-e990-44c3-a463-514ce1970a88",
   "metadata": {},
   "outputs": [],
   "source": [
    "scores = []\n",
    "label = []\n",
    "for data in test_samples_set:\n",
    "    query_emb = sentence_trans.encode(data.texts[0])\n",
    "    doc_emb = sentence_trans.encode(data.texts[1])\n",
    "    scores.append(util.dot_score(query_emb, doc_emb)[0].cpu().tolist()[0])\n",
    "    label.append(data.label)"
   ]
  },
  {
   "cell_type": "code",
   "execution_count": 10,
   "id": "f5ddfa16-4955-4561-aec4-44e5eb236276",
   "metadata": {},
   "outputs": [
    {
     "name": "stdout",
     "output_type": "stream",
     "text": [
      "Auc: 0.9983842523786071\n"
     ]
    }
   ],
   "source": [
    "from sklearn.metrics import roc_auc_score, f1_score, accuracy_score\n",
    "label_np = np.array(label)\n",
    "scores_np = np.array(scores)\n",
    "auc = roc_auc_score(np.abs(label_np), np.abs(scores_np))\n",
    "print(\"Auc:\", auc)"
   ]
  },
  {
   "cell_type": "code",
   "execution_count": 11,
   "id": "5c928c3f-fccf-4ed3-bad0-fa7e993a7c9a",
   "metadata": {},
   "outputs": [
    {
     "name": "stdout",
     "output_type": "stream",
     "text": [
      "F1 Score: 0.02880658436213992\n",
      "Accuracy: 0.5073068893528184\n"
     ]
    }
   ],
   "source": [
    "threshold = 0.9\n",
    "predicted_labels = (np.abs(scores_np) >= threshold).astype(int)\n",
    "\n",
    "# Step 2: Compute the F1 score\n",
    "f1 = f1_score(label_np, predicted_labels)\n",
    "\n",
    "# Step 3: Compute the accuracy\n",
    "accuracy = accuracy_score(label_np, predicted_labels)\n",
    "print(\"F1 Score:\", f1)\n",
    "print(\"Accuracy:\", accuracy)"
   ]
  },
  {
   "cell_type": "code",
   "execution_count": 12,
   "id": "82d004ae-fb95-49ae-bb33-06573fe69bef",
   "metadata": {},
   "outputs": [
    {
     "name": "stdout",
     "output_type": "stream",
     "text": [
      "Average score: 0.6376100213942142\n"
     ]
    }
   ],
   "source": [
    "score = 0\n",
    "i = 0\n",
    "for l, s in zip(label_np, scores_np):\n",
    "    if l == 1.0:\n",
    "        score += s\n",
    "        i += 1\n",
    "print(\"Average score:\", score/i)"
   ]
  },
  {
   "cell_type": "code",
   "execution_count": 14,
   "id": "a584e34e-5b5c-4940-a762-21a67d1c6fa0",
   "metadata": {},
   "outputs": [
    {
     "data": {
      "image/png": "[encoded data removed]",
      "text/plain": [
       "<Figure size 800x600 with 1 Axes>"
      ]
     },
     "metadata": {},
     "output_type": "display_data"
    }
   ],
   "source": [
    "import matplotlib.pyplot as plt\n",
    "# Plot the histogram\n",
    "plt.figure(figsize=(8, 6))\n",
    "plt.hist(np.abs(scores_np), bins=10, edgecolor='black')\n",
    "plt.xlabel('score')\n",
    "plt.ylabel('Frequency')\n",
    "plt.title('Distribution of score before fine-tuning')\n",
    "plt.savefig('Before fine-tuning')"
   ]
  },
  {
   "cell_type": "code",
   "execution_count": null,
   "id": "5b5d6e7f-7d7c-4fb5-9c6d-1c0404eedd46",
   "metadata": {},
   "outputs": [],
   "source": []
  }
 ],
 "metadata": {
  "kernelspec": {
   "display_name": "Python 3 (ipykernel)",
   "language": "python",
   "name": "python3"
  },
  "language_info": {
   "codemirror_mode": {
    "name": "ipython",
    "version": 3
   },
   "file_extension": ".py",
   "mimetype": "text/x-python",
   "name": "python",
   "nbconvert_exporter": "python",
   "pygments_lexer": "ipython3",
   "version": "3.11.9"
  }
 },
 "nbformat": 4,
 "nbformat_minor": 5
}
